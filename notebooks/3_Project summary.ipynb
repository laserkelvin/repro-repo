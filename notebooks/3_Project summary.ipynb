{
 "cells": [
  {
   "cell_type": "markdown",
   "metadata": {},
   "source": [
    "# Project summary\n",
    "\n",
    "In this notebook we summarize the results of the project.\n",
    "\n",
    "Write short descriptions of what each notebook does, and their main conclusions.\n",
    "\n",
    "Think of this notebook as the end of the project, and the beginning of a manuscript. Put sufficient detail here such that you can come back to the analysis and repeat it at any time."
   ]
  },
  {
   "cell_type": "markdown",
   "metadata": {},
   "source": [
    "Use Markdown images to embed figures from analysis."
   ]
  },
  {
   "cell_type": "raw",
   "metadata": {},
   "source": [
    "<center> ![example-fig](./figures/fig1.png) </center>"
   ]
  },
  {
   "cell_type": "code",
   "execution_count": null,
   "metadata": {},
   "outputs": [],
   "source": []
  }
 ],
 "metadata": {
  "kernelspec": {
   "display_name": "Python 3",
   "language": "python",
   "name": "python3"
  },
  "language_info": {
   "codemirror_mode": {
    "name": "ipython",
    "version": 3
   },
   "file_extension": ".py",
   "mimetype": "text/x-python",
   "name": "python",
   "nbconvert_exporter": "python",
   "pygments_lexer": "ipython3",
   "version": "3.6.5"
  }
 },
 "nbformat": 4,
 "nbformat_minor": 2
}
